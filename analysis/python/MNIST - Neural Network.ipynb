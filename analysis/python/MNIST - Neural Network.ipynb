{
  "nbformat": 4,
  "nbformat_minor": 0,
  "metadata": {
    "colab": {
      "provenance": []
    },
    "kernelspec": {
      "name": "python3",
      "display_name": "Python 3"
    },
    "language_info": {
      "name": "python"
    }
  },
  "cells": [
    {
      "cell_type": "markdown",
      "source": [
        "# MNIST - Neural Networks\n",
        "#### Blidea Tudorel Alexandru\n",
        "#### Prof. Coordonator: Brehar Raluca\n",
        "\n",
        "In this notebook, I will try to train a Convolutional Neural Network, as simple as possible (without normalizing or using fancy activation function). This is pureley for educative purpose, and the layer weights and biases will be used to implement a dedicated CNN on FPGA."
      ],
      "metadata": {
        "id": "5glcyHKf9hmW"
      }
    },
    {
      "cell_type": "code",
      "execution_count": null,
      "metadata": {
        "id": "x-0WvLKqFz8A"
      },
      "outputs": [],
      "source": [
        "import tensorflow as tf\n",
        "from tensorflow.keras import datasets\n",
        "import tensorflow_datasets as tfds"
      ]
    },
    {
      "cell_type": "code",
      "source": [
        "tf.__version__"
      ],
      "metadata": {
        "colab": {
          "base_uri": "https://localhost:8080/",
          "height": 36
        },
        "id": "ADlxvVmsBG-E",
        "outputId": "487f85c8-22df-40d6-995b-fcb5757d696d"
      },
      "execution_count": null,
      "outputs": [
        {
          "output_type": "execute_result",
          "data": {
            "text/plain": [
              "'2.9.2'"
            ],
            "application/vnd.google.colaboratory.intrinsic+json": {
              "type": "string"
            }
          },
          "metadata": {},
          "execution_count": 162
        }
      ]
    },
    {
      "cell_type": "code",
      "source": [
        "tf.random.set_seed(42)"
      ],
      "metadata": {
        "id": "CJjlxiGHAyiI"
      },
      "execution_count": null,
      "outputs": []
    },
    {
      "cell_type": "markdown",
      "source": [
        "Firstly, I will import the `MNIST` dataset, splited for train and test, with the labels for training."
      ],
      "metadata": {
        "id": "ihuGs5rP2rUW"
      }
    },
    {
      "cell_type": "code",
      "source": [
        "(ds_train, ds_test), ds_info = tfds.load('mnist', split=['train', 'test'], shuffle_files=True, as_supervised=True, with_info=True)"
      ],
      "metadata": {
        "id": "TFpJqoCgF2Ny"
      },
      "execution_count": null,
      "outputs": []
    },
    {
      "cell_type": "markdown",
      "source": [
        "As we can see below, we have *60000* examples for training, and *10000* for test."
      ],
      "metadata": {
        "id": "zEot7WOR2tYo"
      }
    },
    {
      "cell_type": "code",
      "source": [
        "ds_info"
      ],
      "metadata": {
        "colab": {
          "base_uri": "https://localhost:8080/"
        },
        "id": "zXrDh7uy2vdR",
        "outputId": "a9bacedc-74f5-4691-b44c-4bcbb04ce4ee"
      },
      "execution_count": null,
      "outputs": [
        {
          "output_type": "execute_result",
          "data": {
            "text/plain": [
              "tfds.core.DatasetInfo(\n",
              "    name='mnist',\n",
              "    full_name='mnist/3.0.1',\n",
              "    description=\"\"\"\n",
              "    The MNIST database of handwritten digits.\n",
              "    \"\"\",\n",
              "    homepage='http://yann.lecun.com/exdb/mnist/',\n",
              "    data_path='~/tensorflow_datasets/mnist/3.0.1',\n",
              "    file_format=tfrecord,\n",
              "    download_size=11.06 MiB,\n",
              "    dataset_size=21.00 MiB,\n",
              "    features=FeaturesDict({\n",
              "        'image': Image(shape=(28, 28, 1), dtype=tf.uint8),\n",
              "        'label': ClassLabel(shape=(), dtype=tf.int64, num_classes=10),\n",
              "    }),\n",
              "    supervised_keys=('image', 'label'),\n",
              "    disable_shuffling=False,\n",
              "    splits={\n",
              "        'test': <SplitInfo num_examples=10000, num_shards=1>,\n",
              "        'train': <SplitInfo num_examples=60000, num_shards=1>,\n",
              "    },\n",
              "    citation=\"\"\"@article{lecun2010mnist,\n",
              "      title={MNIST handwritten digit database},\n",
              "      author={LeCun, Yann and Cortes, Corinna and Burges, CJ},\n",
              "      journal={ATT Labs [Online]. Available: http://yann.lecun.com/exdb/mnist},\n",
              "      volume={2},\n",
              "      year={2010}\n",
              "    }\"\"\",\n",
              ")"
            ]
          },
          "metadata": {},
          "execution_count": 165
        }
      ]
    },
    {
      "cell_type": "markdown",
      "source": [
        "The `MNIST` dataset is 28x28 pixels"
      ],
      "metadata": {
        "id": "x9PmsNNj2vI4"
      }
    },
    {
      "cell_type": "code",
      "source": [
        "ds_train"
      ],
      "metadata": {
        "colab": {
          "base_uri": "https://localhost:8080/"
        },
        "id": "qdznn11ZGGwd",
        "outputId": "922f80e9-780e-4b34-eb17-19728a7ac5d4"
      },
      "execution_count": null,
      "outputs": [
        {
          "output_type": "execute_result",
          "data": {
            "text/plain": [
              "<PrefetchDataset element_spec=(TensorSpec(shape=(28, 28, 1), dtype=tf.uint8, name=None), TensorSpec(shape=(), dtype=tf.int64, name=None))>"
            ]
          },
          "metadata": {},
          "execution_count": 166
        }
      ]
    },
    {
      "cell_type": "code",
      "source": [
        "normalizationCt = 1.0 # For now, I won't normalize the dataset\n",
        "def normalize_img(image, label):\n",
        "  \"\"\"Normalizes images: `uint8` -> `float32`.\"\"\"\n",
        "  return tf.cast(image, tf.float32) / normalizationCt, label"
      ],
      "metadata": {
        "id": "Rn-SWzm73Ga6"
      },
      "execution_count": null,
      "outputs": []
    },
    {
      "cell_type": "markdown",
      "source": [
        "Preparing the dataset."
      ],
      "metadata": {
        "id": "7IpGQLIi21hI"
      }
    },
    {
      "cell_type": "code",
      "source": [
        "ds_train = ds_train.map(normalize_img, num_parallel_calls=tf.data.AUTOTUNE)\n",
        "ds_train = ds_train.cache()\n",
        "ds_train = ds_train.shuffle(ds_info.splits['train'].num_examples)\n",
        "ds_train = ds_train.batch(128)\n",
        "ds_train = ds_train.prefetch(tf.data.AUTOTUNE)"
      ],
      "metadata": {
        "id": "SNGLXQmeGIut"
      },
      "execution_count": null,
      "outputs": []
    },
    {
      "cell_type": "code",
      "source": [
        "ds_test = ds_test.map(normalize_img, num_parallel_calls=tf.data.AUTOTUNE)\n",
        "ds_test = ds_test.batch(128)\n",
        "ds_test = ds_test.cache()\n",
        "ds_test = ds_test.prefetch(tf.data.AUTOTUNE)"
      ],
      "metadata": {
        "id": "GnpD6YF5GPtd"
      },
      "execution_count": null,
      "outputs": []
    },
    {
      "cell_type": "markdown",
      "source": [],
      "metadata": {
        "id": "yeKbdE8H_2lx"
      }
    },
    {
      "cell_type": "code",
      "source": [
        "model = tf.keras.models.Sequential([\n",
        "  tf.keras.layers.Flatten(input_shape=(28, 28)),\n",
        "  tf.keras.layers.Dense(128, activation='relu'),\n",
        "  tf.keras.layers.Dense(256, activation='relu'),\n",
        "  tf.keras.layers.Dense(128, activation='relu'),\n",
        "  tf.keras.layers.Dense(10)\n",
        "])"
      ],
      "metadata": {
        "id": "LXxF7ivbGSJv"
      },
      "execution_count": null,
      "outputs": []
    },
    {
      "cell_type": "code",
      "source": [
        "model.compile(\n",
        "    optimizer=tf.keras.optimizers.Adam(0.001),\n",
        "    loss=tf.keras.losses.SparseCategoricalCrossentropy(from_logits=True),\n",
        "    metrics=[tf.keras.metrics.SparseCategoricalAccuracy()],\n",
        ")"
      ],
      "metadata": {
        "id": "w5fjVD_w_5lY"
      },
      "execution_count": null,
      "outputs": []
    },
    {
      "cell_type": "code",
      "source": [
        "model.fit(ds_train, epochs=10, validation_data=ds_test)"
      ],
      "metadata": {
        "colab": {
          "base_uri": "https://localhost:8080/"
        },
        "id": "pef4s4vQGV6-",
        "outputId": "d4489be6-d468-48f0-c982-3695851dc139"
      },
      "execution_count": null,
      "outputs": [
        {
          "output_type": "stream",
          "name": "stdout",
          "text": [
            "Epoch 1/10\n",
            "469/469 [==============================] - 9s 9ms/step - loss: 1.2678 - sparse_categorical_accuracy: 0.8630 - val_loss: 0.3049 - val_sparse_categorical_accuracy: 0.9214\n",
            "Epoch 2/10\n",
            "469/469 [==============================] - 3s 7ms/step - loss: 0.2364 - sparse_categorical_accuracy: 0.9383 - val_loss: 0.2317 - val_sparse_categorical_accuracy: 0.9369\n",
            "Epoch 3/10\n",
            "469/469 [==============================] - 3s 7ms/step - loss: 0.1470 - sparse_categorical_accuracy: 0.9579 - val_loss: 0.2093 - val_sparse_categorical_accuracy: 0.9442\n",
            "Epoch 4/10\n",
            "469/469 [==============================] - 3s 7ms/step - loss: 0.1136 - sparse_categorical_accuracy: 0.9664 - val_loss: 0.1886 - val_sparse_categorical_accuracy: 0.9514\n",
            "Epoch 5/10\n",
            "469/469 [==============================] - 3s 7ms/step - loss: 0.0960 - sparse_categorical_accuracy: 0.9707 - val_loss: 0.1680 - val_sparse_categorical_accuracy: 0.9582\n",
            "Epoch 6/10\n",
            "469/469 [==============================] - 3s 7ms/step - loss: 0.0846 - sparse_categorical_accuracy: 0.9742 - val_loss: 0.1713 - val_sparse_categorical_accuracy: 0.9597\n",
            "Epoch 7/10\n",
            "469/469 [==============================] - 3s 7ms/step - loss: 0.0866 - sparse_categorical_accuracy: 0.9746 - val_loss: 0.1430 - val_sparse_categorical_accuracy: 0.9640\n",
            "Epoch 8/10\n",
            "469/469 [==============================] - 4s 8ms/step - loss: 0.0753 - sparse_categorical_accuracy: 0.9771 - val_loss: 0.1494 - val_sparse_categorical_accuracy: 0.9652\n",
            "Epoch 9/10\n",
            "469/469 [==============================] - 4s 7ms/step - loss: 0.0726 - sparse_categorical_accuracy: 0.9786 - val_loss: 0.1419 - val_sparse_categorical_accuracy: 0.9656\n",
            "Epoch 10/10\n",
            "469/469 [==============================] - 4s 8ms/step - loss: 0.0601 - sparse_categorical_accuracy: 0.9819 - val_loss: 0.1802 - val_sparse_categorical_accuracy: 0.9608\n"
          ]
        },
        {
          "output_type": "execute_result",
          "data": {
            "text/plain": [
              "<keras.callbacks.History at 0x7f929c2eedf0>"
            ]
          },
          "metadata": {},
          "execution_count": 172
        }
      ]
    },
    {
      "cell_type": "markdown",
      "source": [
        "Quite impressive to have an accuracy of 96.08% from the first try. But what if we had a simple model, with only one hidden layer?"
      ],
      "metadata": {
        "id": "y8L7Gv7fEzE6"
      }
    },
    {
      "cell_type": "code",
      "source": [
        "loss, accuracy = model.evaluate(ds_test)\n",
        "print(f\"loss: {loss}, accuracy: {accuracy}\")"
      ],
      "metadata": {
        "id": "tf9HNWC3CnAR",
        "colab": {
          "base_uri": "https://localhost:8080/"
        },
        "outputId": "83f55017-a712-4463-9972-0b8d5f01409c"
      },
      "execution_count": null,
      "outputs": [
        {
          "output_type": "stream",
          "name": "stdout",
          "text": [
            "79/79 [==============================] - 0s 3ms/step - loss: 0.1802 - sparse_categorical_accuracy: 0.9608\n",
            "loss: 0.18020294606685638, accuracy: 0.9607999920845032\n"
          ]
        }
      ]
    },
    {
      "cell_type": "code",
      "source": [
        "tf.random.set_seed(42)"
      ],
      "metadata": {
        "id": "miNqCBWrFD_2"
      },
      "execution_count": null,
      "outputs": []
    },
    {
      "cell_type": "code",
      "source": [
        "simple_model = tf.keras.models.Sequential([\n",
        "  tf.keras.layers.Flatten(input_shape=(28, 28)),\n",
        "  tf.keras.layers.Dense(128, activation='relu'),\n",
        "  tf.keras.layers.Dense(10)\n",
        "])"
      ],
      "metadata": {
        "id": "89Yu8hEGE_-M"
      },
      "execution_count": null,
      "outputs": []
    },
    {
      "cell_type": "code",
      "source": [
        "simple_model.compile(\n",
        "    optimizer=tf.keras.optimizers.Adam(0.001),\n",
        "    loss=tf.keras.losses.SparseCategoricalCrossentropy(from_logits=True),\n",
        "    metrics=[tf.keras.metrics.SparseCategoricalAccuracy()],\n",
        ")"
      ],
      "metadata": {
        "id": "vh-0OvZgFIdC"
      },
      "execution_count": null,
      "outputs": []
    },
    {
      "cell_type": "code",
      "source": [
        "simple_model.fit(ds_train, epochs=10, validation_data=ds_test)"
      ],
      "metadata": {
        "colab": {
          "base_uri": "https://localhost:8080/"
        },
        "id": "M4xHmbsCFMtg",
        "outputId": "1833a791-79c4-47f0-b2f2-b030654d240a"
      },
      "execution_count": null,
      "outputs": [
        {
          "output_type": "stream",
          "name": "stdout",
          "text": [
            "Epoch 1/10\n",
            "469/469 [==============================] - 3s 5ms/step - loss: 4.5090 - sparse_categorical_accuracy: 0.8670 - val_loss: 1.1217 - val_sparse_categorical_accuracy: 0.8917\n",
            "Epoch 2/10\n",
            "469/469 [==============================] - 3s 6ms/step - loss: 0.6564 - sparse_categorical_accuracy: 0.9082 - val_loss: 0.5375 - val_sparse_categorical_accuracy: 0.9074\n",
            "Epoch 3/10\n",
            "469/469 [==============================] - 3s 5ms/step - loss: 0.3469 - sparse_categorical_accuracy: 0.9280 - val_loss: 0.4438 - val_sparse_categorical_accuracy: 0.9212\n",
            "Epoch 4/10\n",
            "469/469 [==============================] - 3s 5ms/step - loss: 0.2411 - sparse_categorical_accuracy: 0.9427 - val_loss: 0.3918 - val_sparse_categorical_accuracy: 0.9331\n",
            "Epoch 5/10\n",
            "469/469 [==============================] - 3s 6ms/step - loss: 0.1905 - sparse_categorical_accuracy: 0.9526 - val_loss: 0.3272 - val_sparse_categorical_accuracy: 0.9413\n",
            "Epoch 6/10\n",
            "469/469 [==============================] - 3s 5ms/step - loss: 0.1646 - sparse_categorical_accuracy: 0.9572 - val_loss: 0.3244 - val_sparse_categorical_accuracy: 0.9381\n",
            "Epoch 7/10\n",
            "469/469 [==============================] - 3s 6ms/step - loss: 0.1499 - sparse_categorical_accuracy: 0.9610 - val_loss: 0.3175 - val_sparse_categorical_accuracy: 0.9448\n",
            "Epoch 8/10\n",
            "469/469 [==============================] - 3s 6ms/step - loss: 0.1393 - sparse_categorical_accuracy: 0.9627 - val_loss: 0.3209 - val_sparse_categorical_accuracy: 0.9434\n",
            "Epoch 9/10\n",
            "469/469 [==============================] - 2s 5ms/step - loss: 0.1342 - sparse_categorical_accuracy: 0.9643 - val_loss: 0.3066 - val_sparse_categorical_accuracy: 0.9473\n",
            "Epoch 10/10\n",
            "469/469 [==============================] - 2s 5ms/step - loss: 0.1344 - sparse_categorical_accuracy: 0.9643 - val_loss: 0.2927 - val_sparse_categorical_accuracy: 0.9519\n"
          ]
        },
        {
          "output_type": "execute_result",
          "data": {
            "text/plain": [
              "<keras.callbacks.History at 0x7f929b0cbcd0>"
            ]
          },
          "metadata": {},
          "execution_count": 178
        }
      ]
    },
    {
      "cell_type": "code",
      "source": [
        "simple_loss, simple_accuracy = simple_model.evaluate(ds_test)"
      ],
      "metadata": {
        "colab": {
          "base_uri": "https://localhost:8080/"
        },
        "id": "52GBDgy6Fgi7",
        "outputId": "241a8be7-60ef-4073-a98d-0a99e11e7af8"
      },
      "execution_count": null,
      "outputs": [
        {
          "output_type": "stream",
          "name": "stdout",
          "text": [
            "79/79 [==============================] - 0s 4ms/step - loss: 0.2927 - sparse_categorical_accuracy: 0.9519\n"
          ]
        }
      ]
    },
    {
      "cell_type": "markdown",
      "source": [
        "This difference is less than 1%, don't think is worthing to have add 2 layers for that. (Talking about a FPGA)."
      ],
      "metadata": {
        "id": "8O34VFZ8GEzM"
      }
    },
    {
      "cell_type": "code",
      "source": [
        "print(f\"accuracy difference: {(accuracy - simple_accuracy) * 100:0.2f}%\")"
      ],
      "metadata": {
        "colab": {
          "base_uri": "https://localhost:8080/"
        },
        "id": "0-nPbtalFnf6",
        "outputId": "3967df49-6a4b-4a19-f580-22f98fb843e2"
      },
      "execution_count": null,
      "outputs": [
        {
          "output_type": "stream",
          "name": "stdout",
          "text": [
            "accuracy difference: 0.89%\n"
          ]
        }
      ]
    },
    {
      "cell_type": "markdown",
      "source": [
        "Now, let's se the CNN in action. First, I will plot the digits to see them, then"
      ],
      "metadata": {
        "id": "SkAT71PrH4Kc"
      }
    },
    {
      "cell_type": "code",
      "source": [
        "%matplotlib inline\n",
        "from matplotlib import pyplot as plt"
      ],
      "metadata": {
        "id": "960LSz6xHDS4"
      },
      "execution_count": null,
      "outputs": []
    },
    {
      "cell_type": "code",
      "source": [
        "def getClass(prediction):\n",
        "  \"\"\" I will enumerate the prediction, find the maximum by the score, and then get the index which represents the predicted digit in image. \"\"\"\n",
        "  return max(list(enumerate(prediction)), key=lambda x: x[1])[0]"
      ],
      "metadata": {
        "id": "YbfuuIiJJnrQ"
      },
      "execution_count": null,
      "outputs": []
    },
    {
      "cell_type": "code",
      "source": [
        "(train_images, train_labels) = datasets.mnist.load_data()\n",
        "train_images = train_images[0]"
      ],
      "metadata": {
        "id": "vLefI1mXHL6M"
      },
      "execution_count": null,
      "outputs": []
    },
    {
      "cell_type": "code",
      "source": [
        "rows = 3\n",
        "columns = 3\n",
        "fig, axs = plt.subplots(rows, columns)\n",
        "for i in range(rows):\n",
        "  for j in range(columns):\n",
        "    axs[i, j].imshow(train_images[i * rows + j], cmap=\"bone\")\n",
        "plt.plot()"
      ],
      "metadata": {
        "colab": {
          "base_uri": "https://localhost:8080/",
          "height": 285
        },
        "id": "jf1bXytiPPXw",
        "outputId": "9c0be70c-4e49-475a-ed6c-2088cee3165b"
      },
      "execution_count": null,
      "outputs": [
        {
          "output_type": "execute_result",
          "data": {
            "text/plain": [
              "[]"
            ]
          },
          "metadata": {},
          "execution_count": 197
        },
        {
          "output_type": "display_data",
          "data": {
            "text/plain": [
              "<Figure size 432x288 with 9 Axes>"
            ],
            "image/png": "[encoded data removed]"
          },
          "metadata": {
            "needs_background": "light"
          }
        }
      ]
    },
    {
      "cell_type": "code",
      "source": [
        "predictions = model.predict(train_images)"
      ],
      "metadata": {
        "colab": {
          "base_uri": "https://localhost:8080/"
        },
        "id": "JCd6RTwpHPcI",
        "outputId": "09f94787-7140-4ca6-c141-f3bf72670d50"
      },
      "execution_count": null,
      "outputs": [
        {
          "output_type": "stream",
          "name": "stdout",
          "text": [
            "1875/1875 [==============================] - 4s 2ms/step\n"
          ]
        }
      ]
    },
    {
      "cell_type": "markdown",
      "source": [
        "Seems right, as it is in the above image."
      ],
      "metadata": {
        "id": "1Vf8stDMJL-B"
      }
    },
    {
      "cell_type": "code",
      "source": [
        "predicted_digits = []\n",
        "for i in range(rows):\n",
        "  for j in range(columns):\n",
        "    predicted_digits.append(getClass(predictions[i * rows + j]))\n",
        "print(\", \".join(map(str, predicted_digits)))"
      ],
      "metadata": {
        "colab": {
          "base_uri": "https://localhost:8080/"
        },
        "id": "Xeonio4vHVv5",
        "outputId": "563767f5-c992-4407-c053-fbed4b37cab9"
      },
      "execution_count": null,
      "outputs": [
        {
          "output_type": "stream",
          "name": "stdout",
          "text": [
            "5, 0, 4, 1, 9, 2, 1, 3, 1\n"
          ]
        }
      ]
    },
    {
      "cell_type": "markdown",
      "source": [
        "Let's see what we had there."
      ],
      "metadata": {
        "id": "DF15e6qAoE6e"
      }
    },
    {
      "cell_type": "code",
      "source": [
        "print(f\"The actual digits are: {list(datasets.mnist.load_data()[0][1])[0:9]}\")"
      ],
      "metadata": {
        "colab": {
          "base_uri": "https://localhost:8080/"
        },
        "id": "9OwH4fshnkCc",
        "outputId": "bf76f440-4692-4b5d-9c52-52ac27457d00"
      },
      "execution_count": null,
      "outputs": [
        {
          "output_type": "stream",
          "name": "stdout",
          "text": [
            "The actual digits are: [5, 0, 4, 1, 9, 2, 1, 3, 1]\n"
          ]
        }
      ]
    },
    {
      "cell_type": "markdown",
      "source": [
        "Check automatically if everything is right. Seems right for the first 9 digits."
      ],
      "metadata": {
        "id": "zn0xwCQ2oHXD"
      }
    },
    {
      "cell_type": "code",
      "source": [
        "predicted_digits == list(datasets.mnist.load_data()[0][1])[0:9]"
      ],
      "metadata": {
        "colab": {
          "base_uri": "https://localhost:8080/"
        },
        "id": "mJyoLL5Hnyo_",
        "outputId": "7ca709e1-0355-4495-e589-4f54965f0251"
      },
      "execution_count": null,
      "outputs": [
        {
          "output_type": "execute_result",
          "data": {
            "text/plain": [
              "True"
            ]
          },
          "metadata": {},
          "execution_count": 262
        }
      ]
    }
  ]
}